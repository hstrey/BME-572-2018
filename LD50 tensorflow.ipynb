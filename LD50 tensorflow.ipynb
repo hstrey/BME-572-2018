{
 "cells": [
  {
   "cell_type": "code",
   "execution_count": 1,
   "metadata": {},
   "outputs": [],
   "source": [
    "%matplotlib inline\n",
    "import seaborn as sns\n",
    "\n",
    "import tensorflow as tf\n",
    "import tensorflow_probability as tfp\n",
    "from tensorflow_probability import edward2 as ed\n",
    "import warnings\n",
    "import numpy as np\n",
    "import matplotlib.pyplot as plt"
   ]
  },
  {
   "cell_type": "code",
   "execution_count": 18,
   "metadata": {},
   "outputs": [],
   "source": [
    "# Data\n",
    "n_points = 4\n",
    "n = np.ones(4, dtype=np.float32)*5\n",
    "deaths = np.array([0, 1, 3, 5], dtype=np.float32)\n",
    "dose = np.array([-.86,-.3,-.05,.73], dtype=np.float32)\n"
   ]
  },
  {
   "cell_type": "code",
   "execution_count": 19,
   "metadata": {},
   "outputs": [],
   "source": [
    "def invlogit(x):\n",
    "    return tf.exp(x)/(1+tf.exp(x))\n",
    "\n",
    "def bioassay_model(n,dose):\n",
    "    alpha = ed.Normal(loc=0., scale=100.,name=\"alpha\")\n",
    "    beta = ed.Normal(loc=0, scale=100., name=\"beta\")\n",
    "    theta = invlogit(alpha + beta*dose)\n",
    "    deaths = ed.Binomial(total_count=n,probs=theta,name=\"deaths\")\n",
    "    return deaths\n",
    "\n",
    "log_joint = ed.make_log_joint_fn(bioassay_model)\n",
    "\n",
    "def target_log_prob_fn(alpha, beta):\n",
    "  \"\"\"Unnormalized target density as a function of states.\"\"\"\n",
    "  return log_joint(\n",
    "      n=n,\n",
    "      dose=dose,\n",
    "      alpha=alpha,\n",
    "      beta=beta,\n",
    "      deaths=deaths)"
   ]
  },
  {
   "cell_type": "code",
   "execution_count": 20,
   "metadata": {},
   "outputs": [
    {
     "name": "stdout",
     "output_type": "stream",
     "text": [
      "Acceptance rate: 0.9664\n"
     ]
    }
   ],
   "source": [
    "num_results = 5000\n",
    "num_burnin_steps = 3000\n",
    "\n",
    "states, kernel_results = tfp.mcmc.sample_chain(\n",
    "    num_results=num_results,\n",
    "    num_burnin_steps=num_burnin_steps,\n",
    "    current_state=[\n",
    "        tf.zeros([], name='init_alpha'),\n",
    "        tf.zeros([], name='init_beta'),\n",
    "    ],\n",
    "    kernel=tfp.mcmc.HamiltonianMonteCarlo(\n",
    "        target_log_prob_fn=target_log_prob_fn,\n",
    "        step_size=0.4,\n",
    "        num_leapfrog_steps=3))\n",
    "\n",
    "alpha, beta = states\n",
    "\n",
    "with tf.Session() as sess:\n",
    "  [\n",
    "      alpha_,\n",
    "      beta_,\n",
    "      is_accepted_,\n",
    "  ] = sess.run([\n",
    "      alpha,\n",
    "      beta,\n",
    "      kernel_results.is_accepted,\n",
    "  ])\n",
    "\n",
    "num_accepted = np.sum(is_accepted_)\n",
    "print('Acceptance rate: {}'.format(num_accepted / num_results))"
   ]
  },
  {
   "cell_type": "code",
   "execution_count": 23,
   "metadata": {},
   "outputs": [],
   "source": [
    "ld50 = -alpha_/beta_"
   ]
  },
  {
   "cell_type": "code",
   "execution_count": 24,
   "metadata": {},
   "outputs": [
    {
     "data": {
      "text/plain": [
       "(array([3.32216268e-02, 6.64432835e-02, 2.20470796e-01, 9.09064720e-01,\n",
       "        2.60336807e+00, 4.73861311e+00, 3.80840735e+00, 1.66108171e+00,\n",
       "        6.67452834e-01, 2.11410400e-01, 9.96649028e-02, 3.62417747e-02,\n",
       "        3.32216418e-02, 3.02014789e-03, 0.00000000e+00, 0.00000000e+00,\n",
       "        0.00000000e+00, 3.02014653e-03, 0.00000000e+00, 0.00000000e+00,\n",
       "        3.02014925e-03, 0.00000000e+00, 0.00000000e+00, 0.00000000e+00,\n",
       "        0.00000000e+00, 0.00000000e+00, 0.00000000e+00, 0.00000000e+00,\n",
       "        0.00000000e+00, 3.02014653e-03]),\n",
       " array([-0.49298373, -0.4267618 , -0.3605399 , -0.294318  , -0.22809608,\n",
       "        -0.16187418, -0.09565227, -0.02943036,  0.03679155,  0.10301346,\n",
       "         0.16923536,  0.23545727,  0.3016792 ,  0.3679011 ,  0.434123  ,\n",
       "         0.50034493,  0.5665668 ,  0.6327887 ,  0.69901067,  0.76523256,\n",
       "         0.83145446,  0.89767635,  0.9638983 ,  1.0301203 ,  1.0963421 ,\n",
       "         1.162564  ,  1.2287859 ,  1.2950078 ,  1.3612298 ,  1.4274516 ,\n",
       "         1.4936736 ], dtype=float32),\n",
       " <a list of 30 Patch objects>)"
      ]
     },
     "execution_count": 24,
     "metadata": {},
     "output_type": "execute_result"
    },
    {
     "data": {
      "image/png": "[encoded data removed]",
      "text/plain": [
       "<Figure size 432x288 with 1 Axes>"
      ]
     },
     "metadata": {
      "needs_background": "light"
     },
     "output_type": "display_data"
    }
   ],
   "source": [
    "plt.hist(ld50,bins=30,density=True)"
   ]
  },
  {
   "cell_type": "code",
   "execution_count": 25,
   "metadata": {},
   "outputs": [
    {
     "name": "stdout",
     "output_type": "stream",
     "text": [
      "[-0.28492907 -0.1626249  -0.10918016 -0.05240481  0.1043744 ]\n"
     ]
    }
   ],
   "source": [
    "print(np.percentile(ld50,(2.5,25,50,75,97.5)))"
   ]
  },
  {
   "cell_type": "code",
   "execution_count": null,
   "metadata": {},
   "outputs": [],
   "source": []
  }
 ],
 "metadata": {
  "kernelspec": {
   "display_name": "Python 3",
   "language": "python",
   "name": "python3"
  },
  "language_info": {
   "codemirror_mode": {
    "name": "ipython",
    "version": 3
   },
   "file_extension": ".py",
   "mimetype": "text/x-python",
   "name": "python",
   "nbconvert_exporter": "python",
   "pygments_lexer": "ipython3",
   "version": "3.6.7"
  }
 },
 "nbformat": 4,
 "nbformat_minor": 2
}
