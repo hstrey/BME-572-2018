{
 "cells": [
  {
   "cell_type": "code",
   "execution_count": 1,
   "metadata": {},
   "outputs": [],
   "source": [
    "import numpy as np"
   ]
  },
  {
   "cell_type": "code",
   "execution_count": 2,
   "metadata": {},
   "outputs": [
    {
     "name": "stdout",
     "output_type": "stream",
     "text": [
      "[1 2 3 4 5 6 7 8 9]\n"
     ]
    }
   ],
   "source": [
    "a = np.arange(1,10)\n",
    "print(a)"
   ]
  },
  {
   "cell_type": "code",
   "execution_count": 3,
   "metadata": {},
   "outputs": [
    {
     "data": {
      "text/plain": [
       "array([[ 1.,  2.,  3.],\n",
       "       [ 4.,  5.,  6.],\n",
       "       [ 7.,  8.,  9.]])"
      ]
     },
     "execution_count": 3,
     "metadata": {},
     "output_type": "execute_result"
    }
   ],
   "source": [
    "aa = a.reshape(3,3).astype(np.double)\n",
    "aa"
   ]
  },
  {
   "cell_type": "code",
   "execution_count": 4,
   "metadata": {},
   "outputs": [
    {
     "name": "stdout",
     "output_type": "stream",
     "text": [
      "[[ 1.  2.  3.]\n",
      " [ 4.  5.  6.]\n",
      " [ 7.  8.  9.]]\n",
      "(3, 3)\n"
     ]
    }
   ],
   "source": [
    "print(aa)\n",
    "print(aa.shape)"
   ]
  },
  {
   "cell_type": "code",
   "execution_count": 5,
   "metadata": {},
   "outputs": [
    {
     "name": "stdout",
     "output_type": "stream",
     "text": [
      "[1 2 3]\n",
      "(3,)\n"
     ]
    }
   ],
   "source": [
    "b = np.arange(1,4)\n",
    "print(b)\n",
    "print(b.shape)"
   ]
  },
  {
   "cell_type": "code",
   "execution_count": 6,
   "metadata": {},
   "outputs": [
    {
     "name": "stdout",
     "output_type": "stream",
     "text": [
      "[[1 2 3]]\n",
      "(1, 3)\n"
     ]
    }
   ],
   "source": [
    "bb = b[np.newaxis,:]\n",
    "print(bb)\n",
    "print(bb.shape)"
   ]
  },
  {
   "cell_type": "code",
   "execution_count": 7,
   "metadata": {},
   "outputs": [
    {
     "name": "stdout",
     "output_type": "stream",
     "text": [
      "[[1]\n",
      " [2]\n",
      " [3]]\n",
      "(3, 1)\n",
      "[[1 2 3]]\n"
     ]
    }
   ],
   "source": [
    "bbb = b[:,np.newaxis]\n",
    "print(bbb)\n",
    "print(bbb.shape)\n",
    "print(bbb.T)"
   ]
  },
  {
   "cell_type": "code",
   "execution_count": 8,
   "metadata": {},
   "outputs": [
    {
     "data": {
      "text/plain": [
       "array([[  1.,   4.,   9.],\n",
       "       [  4.,  10.,  18.],\n",
       "       [  7.,  16.,  27.]])"
      ]
     },
     "execution_count": 8,
     "metadata": {},
     "output_type": "execute_result"
    }
   ],
   "source": [
    "aa*b"
   ]
  },
  {
   "cell_type": "code",
   "execution_count": 9,
   "metadata": {},
   "outputs": [
    {
     "data": {
      "text/plain": [
       "array([1, 2, 3, 4])"
      ]
     },
     "execution_count": 9,
     "metadata": {},
     "output_type": "execute_result"
    }
   ],
   "source": [
    "c = np.arange(1,5)\n",
    "c"
   ]
  },
  {
   "cell_type": "code",
   "execution_count": 10,
   "metadata": {},
   "outputs": [
    {
     "name": "stdout",
     "output_type": "stream",
     "text": [
      "[[[  1.   2.   3.]\n",
      "  [  4.   5.   6.]\n",
      "  [  7.   8.   9.]]\n",
      "\n",
      " [[  2.   4.   6.]\n",
      "  [  8.  10.  12.]\n",
      "  [ 14.  16.  18.]]\n",
      "\n",
      " [[  3.   6.   9.]\n",
      "  [ 12.  15.  18.]\n",
      "  [ 21.  24.  27.]]\n",
      "\n",
      " [[  4.   8.  12.]\n",
      "  [ 16.  20.  24.]\n",
      "  [ 28.  32.  36.]]]\n",
      "(4, 3, 3)\n"
     ]
    }
   ],
   "source": [
    "d = aa*c[:,np.newaxis,np.newaxis]\n",
    "print(d)\n",
    "print(d.shape)"
   ]
  },
  {
   "cell_type": "code",
   "execution_count": 11,
   "metadata": {},
   "outputs": [
    {
     "name": "stdout",
     "output_type": "stream",
     "text": [
      "[[ 1.  1.  1.]\n",
      " [ 1.  1.  1.]\n",
      " [ 1.  1.  1.]]\n"
     ]
    }
   ],
   "source": [
    "e = np.ones(9).reshape(3,3)\n",
    "print(e)"
   ]
  },
  {
   "cell_type": "code",
   "execution_count": 12,
   "metadata": {},
   "outputs": [
    {
     "data": {
      "text/plain": [
       "array([[[  2.,   3.,   4.],\n",
       "        [  5.,   6.,   7.],\n",
       "        [  8.,   9.,  10.]],\n",
       "\n",
       "       [[  3.,   5.,   7.],\n",
       "        [  9.,  11.,  13.],\n",
       "        [ 15.,  17.,  19.]],\n",
       "\n",
       "       [[  4.,   7.,  10.],\n",
       "        [ 13.,  16.,  19.],\n",
       "        [ 22.,  25.,  28.]],\n",
       "\n",
       "       [[  5.,   9.,  13.],\n",
       "        [ 17.,  21.,  25.],\n",
       "        [ 29.,  33.,  37.]]])"
      ]
     },
     "execution_count": 12,
     "metadata": {},
     "output_type": "execute_result"
    }
   ],
   "source": [
    "d+e"
   ]
  },
  {
   "cell_type": "code",
   "execution_count": 13,
   "metadata": {},
   "outputs": [
    {
     "name": "stdout",
     "output_type": "stream",
     "text": [
      "[1 2 3 4]\n"
     ]
    }
   ],
   "source": [
    "y = np.arange(1,5)\n",
    "print(y)"
   ]
  },
  {
   "cell_type": "code",
   "execution_count": 14,
   "metadata": {},
   "outputs": [
    {
     "name": "stdout",
     "output_type": "stream",
     "text": [
      "[[[  3.   4.   5.]\n",
      "  [  6.   7.   8.]\n",
      "  [  9.  10.  11.]]\n",
      "\n",
      " [[  5.   7.   9.]\n",
      "  [ 11.  13.  15.]\n",
      "  [ 17.  19.  21.]]\n",
      "\n",
      " [[  7.  10.  13.]\n",
      "  [ 16.  19.  22.]\n",
      "  [ 25.  28.  31.]]\n",
      "\n",
      " [[  9.  13.  17.]\n",
      "  [ 21.  25.  29.]\n",
      "  [ 33.  37.  41.]]]\n",
      "(4, 3, 3)\n"
     ]
    }
   ],
   "source": [
    "g=((d+e).T+y).T\n",
    "print(g)\n",
    "print(g.shape)"
   ]
  },
  {
   "cell_type": "code",
   "execution_count": 15,
   "metadata": {},
   "outputs": [
    {
     "data": {
      "text/plain": [
       "array([[  164.,   334.,   564.],\n",
       "       [  854.,  1204.,  1614.],\n",
       "       [ 2084.,  2614.,  3204.]])"
      ]
     },
     "execution_count": 15,
     "metadata": {},
     "output_type": "execute_result"
    }
   ],
   "source": [
    "np.sum(g**2,axis=0)"
   ]
  },
  {
   "cell_type": "code",
   "execution_count": null,
   "metadata": {},
   "outputs": [],
   "source": []
  }
 ],
 "metadata": {
  "kernelspec": {
   "display_name": "Python [conda env:python3]",
   "language": "python",
   "name": "conda-env-python3-py"
  },
  "language_info": {
   "codemirror_mode": {
    "name": "ipython",
    "version": 3
   },
   "file_extension": ".py",
   "mimetype": "text/x-python",
   "name": "python",
   "nbconvert_exporter": "python",
   "pygments_lexer": "ipython3",
   "version": "3.5.4"
  }
 },
 "nbformat": 4,
 "nbformat_minor": 2
}
