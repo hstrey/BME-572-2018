{
 "cells": [
  {
   "cell_type": "code",
   "execution_count": 1,
   "metadata": {},
   "outputs": [
    {
     "name": "stderr",
     "output_type": "stream",
     "text": [
      "/Users/hstrey/anaconda/lib/python2.7/site-packages/matplotlib/font_manager.py:273: UserWarning: Matplotlib is building the font cache using fc-list. This may take a moment.\n",
      "  warnings.warn('Matplotlib is building the font cache using fc-list. This may take a moment.')\n"
     ]
    }
   ],
   "source": [
    "%matplotlib inline\n",
    "import numpy as np\n",
    "import matplotlib.pyplot as plt\n",
    "#np.random.seed(123)"
   ]
  },
  {
   "cell_type": "code",
   "execution_count": 2,
   "metadata": {},
   "outputs": [
    {
     "name": "stdout",
     "output_type": "stream",
     "text": [
      "[-5. -4. -3. -2. -1.  0.  1.  2.  3.  4.  5.]\n"
     ]
    }
   ],
   "source": [
    "x = np.linspace(-5,5,11)\n",
    "print(x)"
   ]
  },
  {
   "cell_type": "code",
   "execution_count": 3,
   "metadata": {},
   "outputs": [
    {
     "name": "stdout",
     "output_type": "stream",
     "text": [
      "[-0.30965367  0.59494562  1.0044882  -0.34793153  0.0148872  -0.32315456\n",
      "  0.23875256  0.73328699  0.22615906  0.80614083  0.36208131]\n"
     ]
    }
   ],
   "source": [
    "error = np.random.normal(0,1,11) # create some errors\n",
    "print(error)"
   ]
  },
  {
   "cell_type": "code",
   "execution_count": 4,
   "metadata": {
    "collapsed": true
   },
   "outputs": [],
   "source": [
    "y = 2*x + error\n",
    "sd = np.ones(11)"
   ]
  },
  {
   "cell_type": "code",
   "execution_count": 5,
   "metadata": {},
   "outputs": [
    {
     "data": {
      "text/plain": [
       "<Container object of 3 artists>"
      ]
     },
     "execution_count": 5,
     "metadata": {},
     "output_type": "execute_result"
    },
    {
     "data": {
      "image/png": "[encoded data removed]",
      "text/plain": [
       "<matplotlib.figure.Figure at 0x103e4e950>"
      ]
     },
     "metadata": {},
     "output_type": "display_data"
    }
   ],
   "source": [
    "plt.errorbar(x,y,yerr=sd,fmt=\"o\")"
   ]
  },
  {
   "cell_type": "code",
   "execution_count": 6,
   "metadata": {},
   "outputs": [
    {
     "data": {
      "text/plain": [
       "[<matplotlib.lines.Line2D at 0x10db6ab90>]"
      ]
     },
     "execution_count": 6,
     "metadata": {},
     "output_type": "execute_result"
    },
    {
     "data": {
      "image/png": "[encoded data removed]",
      "text/plain": [
       "<matplotlib.figure.Figure at 0x10a4b6790>"
      ]
     },
     "metadata": {},
     "output_type": "display_data"
    }
   ],
   "source": [
    "res = y - 2*x\n",
    "plt.plot(x,res,\"o\")"
   ]
  },
  {
   "cell_type": "code",
   "execution_count": 7,
   "metadata": {},
   "outputs": [
    {
     "name": "stdout",
     "output_type": "stream",
     "text": [
      "[ 2.03867973  0.27272745]\n"
     ]
    }
   ],
   "source": [
    "p = np.polyfit(x,y,1)\n",
    "print(p)"
   ]
  },
  {
   "cell_type": "code",
   "execution_count": 8,
   "metadata": {},
   "outputs": [
    {
     "data": {
      "text/plain": [
       "[<matplotlib.lines.Line2D at 0x10a4f5e50>]"
      ]
     },
     "execution_count": 8,
     "metadata": {},
     "output_type": "execute_result"
    },
    {
     "data": {
      "image/png": "[encoded data removed]",
      "text/plain": [
       "<matplotlib.figure.Figure at 0x10db8a150>"
      ]
     },
     "metadata": {},
     "output_type": "display_data"
    }
   ],
   "source": [
    "yfit = p[1] +p[0]*x\n",
    "plt.errorbar(x,y,yerr=sd,fmt=\"o\")\n",
    "plt.plot(x,yfit)"
   ]
  },
  {
   "cell_type": "code",
   "execution_count": 9,
   "metadata": {},
   "outputs": [
    {
     "data": {
      "text/plain": [
       "[<matplotlib.lines.Line2D at 0x10dbe8090>]"
      ]
     },
     "execution_count": 9,
     "metadata": {},
     "output_type": "execute_result"
    },
    {
     "data": {
      "image/png": "[encoded data removed]",
      "text/plain": [
       "<matplotlib.figure.Figure at 0x10dba4510>"
      ]
     },
     "metadata": {},
     "output_type": "display_data"
    }
   ],
   "source": [
    "resfit = y - yfit\n",
    "plt.plot(x,resfit,\"o\")\n",
    "plt.plot(x,res,\"o\")"
   ]
  },
  {
   "cell_type": "code",
   "execution_count": 10,
   "metadata": {
    "collapsed": true
   },
   "outputs": [],
   "source": [
    "y2 = 2*x + 0.1*x**2 + np.random.normal(0,1,11)"
   ]
  },
  {
   "cell_type": "code",
   "execution_count": 11,
   "metadata": {},
   "outputs": [
    {
     "name": "stdout",
     "output_type": "stream",
     "text": [
      "[ 2.02401319  0.58692146]\n"
     ]
    }
   ],
   "source": [
    "p1 = np.polyfit(x,y2,1)\n",
    "print(p1)"
   ]
  },
  {
   "cell_type": "code",
   "execution_count": 12,
   "metadata": {},
   "outputs": [
    {
     "name": "stdout",
     "output_type": "stream",
     "text": [
      "[ 0.10415319  2.02401319 -0.45461047]\n"
     ]
    }
   ],
   "source": [
    "p2 = np.polyfit(x,y2,2)\n",
    "print(p2)"
   ]
  },
  {
   "cell_type": "code",
   "execution_count": 13,
   "metadata": {},
   "outputs": [
    {
     "data": {
      "text/plain": [
       "[<matplotlib.lines.Line2D at 0x10df49190>]"
      ]
     },
     "execution_count": 13,
     "metadata": {},
     "output_type": "execute_result"
    },
    {
     "data": {
      "image/png": "[encoded data removed]",
      "text/plain": [
       "<matplotlib.figure.Figure at 0x10d96eb10>"
      ]
     },
     "metadata": {},
     "output_type": "display_data"
    }
   ],
   "source": [
    "y2fit = p1[1] + p1[0]*x\n",
    "plt.plot(x,y2,\"o\")\n",
    "plt.plot(x,y2fit)"
   ]
  },
  {
   "cell_type": "code",
   "execution_count": 14,
   "metadata": {},
   "outputs": [
    {
     "data": {
      "text/plain": [
       "[<matplotlib.lines.Line2D at 0x10dba4710>]"
      ]
     },
     "execution_count": 14,
     "metadata": {},
     "output_type": "execute_result"
    },
    {
     "data": {
      "image/png": "[encoded data removed]",
      "text/plain": [
       "<matplotlib.figure.Figure at 0x10df66890>"
      ]
     },
     "metadata": {},
     "output_type": "display_data"
    }
   ],
   "source": [
    "y2fit = p2[2] + p2[1]*x + p2[0]*x**2\n",
    "plt.plot(x,y2,\"o\")\n",
    "plt.plot(x,y2fit)"
   ]
  },
  {
   "cell_type": "code",
   "execution_count": 15,
   "metadata": {
    "collapsed": true
   },
   "outputs": [],
   "source": [
    "chisq_list = []\n",
    "for i in range(1000):\n",
    "    y=2*x +np.random.normal(0,1,11)\n",
    "    p=np.polyfit(x,y,1)\n",
    "    res = y-p[0]*x - p[1]\n",
    "    chisq_list.append(np.sum(res**2))\n",
    "chisq = np.array(chisq_list)"
   ]
  },
  {
   "cell_type": "code",
   "execution_count": 16,
   "metadata": {},
   "outputs": [
    {
     "data": {
      "text/plain": [
       "(array([ 0.01195606,  0.03885718,  0.05679126,  0.10162647,  0.11358253,\n",
       "         0.10536274,  0.0866814 ,  0.06800007,  0.05230774,  0.03063739,\n",
       "         0.02989014,  0.01793408,  0.01046155,  0.0097143 ,  0.00672528,\n",
       "         0.00224176,  0.00074725,  0.00149451,  0.00074725,  0.00149451]),\n",
       " array([  0.91993713,   2.25817111,   3.59640509,   4.93463907,\n",
       "          6.27287305,   7.61110703,   8.94934101,  10.287575  ,\n",
       "         11.62580898,  12.96404296,  14.30227694,  15.64051092,\n",
       "         16.9787449 ,  18.31697888,  19.65521286,  20.99344684,\n",
       "         22.33168082,  23.6699148 ,  25.00814878,  26.34638276,  27.68461674]),\n",
       " <a list of 20 Patch objects>)"
      ]
     },
     "execution_count": 16,
     "metadata": {},
     "output_type": "execute_result"
    },
    {
     "data": {
      "image/png": "[encoded data removed]",
      "text/plain": [
       "<matplotlib.figure.Figure at 0x10e197f10>"
      ]
     },
     "metadata": {},
     "output_type": "display_data"
    }
   ],
   "source": [
    "plt.hist(chisq,bins=20,normed=True)"
   ]
  },
  {
   "cell_type": "code",
   "execution_count": 17,
   "metadata": {},
   "outputs": [
    {
     "name": "stdout",
     "output_type": "stream",
     "text": [
      "8.915307688\n"
     ]
    }
   ],
   "source": [
    "print(chisq.mean())"
   ]
  },
  {
   "cell_type": "code",
   "execution_count": 18,
   "metadata": {
    "collapsed": true
   },
   "outputs": [],
   "source": [
    "from scipy.stats import chi2"
   ]
  },
  {
   "cell_type": "code",
   "execution_count": 19,
   "metadata": {
    "collapsed": true
   },
   "outputs": [],
   "source": [
    "chi = np.linspace(0,50,200)\n",
    "chi2distr = chi2.pdf(chi,9)"
   ]
  },
  {
   "cell_type": "code",
   "execution_count": 20,
   "metadata": {},
   "outputs": [
    {
     "data": {
      "text/plain": [
       "[<matplotlib.lines.Line2D at 0x10ffa9c90>]"
      ]
     },
     "execution_count": 20,
     "metadata": {},
     "output_type": "execute_result"
    },
    {
     "data": {
      "image/png": "[encoded data removed]",
      "text/plain": [
       "<matplotlib.figure.Figure at 0x10ffa9b10>"
      ]
     },
     "metadata": {},
     "output_type": "display_data"
    }
   ],
   "source": [
    "plt.hist(chisq,bins=20,normed=True)\n",
    "plt.plot(chi,chi2distr)"
   ]
  },
  {
   "cell_type": "code",
   "execution_count": 21,
   "metadata": {
    "collapsed": true
   },
   "outputs": [],
   "source": [
    "chisq_list = []\n",
    "for i in range(1000):\n",
    "    y=2*x +0.1*x**2+np.random.normal(0,1,11)\n",
    "    p=np.polyfit(x,y,1)\n",
    "    res = y-p[0]*x - p[1]\n",
    "    chisq_list.append(np.sum(res**2))\n",
    "chisq = np.array(chisq_list)"
   ]
  },
  {
   "cell_type": "code",
   "execution_count": 22,
   "metadata": {},
   "outputs": [
    {
     "data": {
      "text/plain": [
       "[<matplotlib.lines.Line2D at 0x10df6f210>]"
      ]
     },
     "execution_count": 22,
     "metadata": {},
     "output_type": "execute_result"
    },
    {
     "data": {
      "image/png": "[encoded data removed]",
      "text/plain": [
       "<matplotlib.figure.Figure at 0x1101a3c10>"
      ]
     },
     "metadata": {},
     "output_type": "display_data"
    }
   ],
   "source": [
    "plt.hist(chisq,bins=20,normed=True)\n",
    "plt.plot(chi,chi2distr)"
   ]
  },
  {
   "cell_type": "code",
   "execution_count": 23,
   "metadata": {
    "collapsed": true
   },
   "outputs": [],
   "source": [
    "chisq_list = []\n",
    "for i in range(1000):\n",
    "    y=2*x +0.1*x**2+np.random.normal(0,1,11)\n",
    "    p=np.polyfit(x,y,2)\n",
    "    res = y-p[0]*x**2 - p[1]*x - p[2]\n",
    "    chisq_list.append(np.sum(res**2))\n",
    "chisq = np.array(chisq_list)"
   ]
  },
  {
   "cell_type": "code",
   "execution_count": 24,
   "metadata": {},
   "outputs": [
    {
     "data": {
      "text/plain": [
       "[<matplotlib.lines.Line2D at 0x10e1f2510>]"
      ]
     },
     "execution_count": 24,
     "metadata": {},
     "output_type": "execute_result"
    },
    {
     "data": {
      "image/png": "[encoded data removed]",
      "text/plain": [
       "<matplotlib.figure.Figure at 0x1105fe250>"
      ]
     },
     "metadata": {},
     "output_type": "display_data"
    }
   ],
   "source": [
    "chi = np.linspace(0,50,200)\n",
    "chi2distr = chi2.pdf(chi,8)\n",
    "plt.hist(chisq,bins=20,normed=True)\n",
    "plt.plot(chi,chi2distr)"
   ]
  },
  {
   "cell_type": "code",
   "execution_count": 33,
   "metadata": {},
   "outputs": [
    {
     "name": "stdout",
     "output_type": "stream",
     "text": [
      "(array([ 2.1454585 ,  0.20853599]), array([[  2.46905643e-02,   9.97331490e-19],\n",
      "       [  9.97331490e-19,   2.46905643e-01]]))\n"
     ]
    },
    {
     "data": {
      "text/plain": [
       "<matplotlib.colorbar.Colorbar at 0x11698a710>"
      ]
     },
     "execution_count": 33,
     "metadata": {},
     "output_type": "execute_result"
    },
    {
     "data": {
      "image/png": "[encoded data removed]",
      "text/plain": [
       "<matplotlib.figure.Figure at 0x11041ea50>"
      ]
     },
     "metadata": {},
     "output_type": "display_data"
    }
   ],
   "source": [
    "# let us plot the two-dimensional chi^2 distribution\n",
    "m = np.linspace(1,3,401)\n",
    "b = np.linspace(-1,1,401)\n",
    "\n",
    "def chi2linefit(m,b,datax,datay):\n",
    "    x = datax.T[:,np.newaxis,np.newaxis]\n",
    "    y = datay.T[:,np.newaxis,np.newaxis]\n",
    "    res2 = m*x\n",
    "    res3 = b.T[:,:,np.newaxis]\n",
    "    res12 = y - res2\n",
    "    res123 = res12.T - res3\n",
    "    res123 = res123.T**2\n",
    "    chisquare = np.sum(res123,axis=0)\n",
    "    return chisquare\n",
    "\n",
    "x = np.linspace(-5,5,11)\n",
    "y=2*x + np.random.normal(0,1,11)\n",
    "print(np.polyfit(x,y,1,cov=True))\n",
    "#print(x.shape,y.shape)\n",
    "\n",
    "\n",
    "M,B = np.meshgrid(m,b)\n",
    "#print(M.shape)\n",
    "Z = chi2linefit(M,B,x,y)\n",
    "plt.contourf(M, B, Z,10)\n",
    "plt.colorbar()"
   ]
  },
  {
   "cell_type": "code",
   "execution_count": 26,
   "metadata": {},
   "outputs": [
    {
     "data": {
      "text/plain": [
       "(2, 2)"
      ]
     },
     "execution_count": 26,
     "metadata": {},
     "output_type": "execute_result"
    }
   ],
   "source": [
    "# in the following cells, I am illustrating how I came up with the matrix calculation\n",
    "m = np.array([[1,2],[3,4]])\n",
    "m.shape"
   ]
  },
  {
   "cell_type": "code",
   "execution_count": 27,
   "metadata": {},
   "outputs": [
    {
     "name": "stdout",
     "output_type": "stream",
     "text": [
      "(3, 1, 1)\n",
      "(3, 1, 1)\n"
     ]
    }
   ],
   "source": [
    "x = np.array([1,2,3]).T\n",
    "x = x[:,np.newaxis,np.newaxis]\n",
    "print(x.shape)\n",
    "y = np.array([4,6,8]).T[:,np.newaxis,np.newaxis]\n",
    "print(y.shape)"
   ]
  },
  {
   "cell_type": "code",
   "execution_count": 28,
   "metadata": {},
   "outputs": [
    {
     "data": {
      "text/plain": [
       "array([[[ 1,  2],\n",
       "        [ 3,  4]],\n",
       "\n",
       "       [[ 2,  4],\n",
       "        [ 6,  8]],\n",
       "\n",
       "       [[ 3,  6],\n",
       "        [ 9, 12]]])"
      ]
     },
     "execution_count": 28,
     "metadata": {},
     "output_type": "execute_result"
    }
   ],
   "source": [
    "res2 = m*x\n",
    "res2"
   ]
  },
  {
   "cell_type": "code",
   "execution_count": 29,
   "metadata": {},
   "outputs": [
    {
     "name": "stdout",
     "output_type": "stream",
     "text": [
      "[[[ 3  2]\n",
      "  [ 1  0]]\n",
      "\n",
      " [[ 4  2]\n",
      "  [ 0 -2]]\n",
      "\n",
      " [[ 5  2]\n",
      "  [-1 -4]]]\n",
      "(3, 2, 2)\n",
      "[[[ 3  4  5]\n",
      "  [ 1  0 -1]]\n",
      "\n",
      " [[ 2  2  2]\n",
      "  [ 0 -2 -4]]]\n"
     ]
    }
   ],
   "source": [
    "res12 = y - res2\n",
    "print(res12)\n",
    "print(res12.shape)\n",
    "print(res12.T)"
   ]
  },
  {
   "cell_type": "code",
   "execution_count": 30,
   "metadata": {},
   "outputs": [
    {
     "name": "stdout",
     "output_type": "stream",
     "text": [
      "(2, 2)\n"
     ]
    }
   ],
   "source": [
    "b = np.array([[9,8],[6,5]])\n",
    "print(b.shape)"
   ]
  },
  {
   "cell_type": "code",
   "execution_count": 31,
   "metadata": {},
   "outputs": [
    {
     "name": "stdout",
     "output_type": "stream",
     "text": [
      "[[[-6 -6]\n",
      "  [-5 -5]]\n",
      "\n",
      " [[-5 -6]\n",
      "  [-6 -7]]\n",
      "\n",
      " [[-4 -6]\n",
      "  [-7 -9]]]\n"
     ]
    }
   ],
   "source": [
    "print((res12.T-b.T[:,:,np.newaxis]).T)"
   ]
  },
  {
   "cell_type": "code",
   "execution_count": null,
   "metadata": {
    "collapsed": true
   },
   "outputs": [],
   "source": []
  }
 ],
 "metadata": {
  "kernelspec": {
   "display_name": "Python [conda env:python3]",
   "language": "python",
   "name": "conda-env-python3-py"
  },
  "language_info": {
   "codemirror_mode": {
    "name": "ipython",
    "version": 3
   },
   "file_extension": ".py",
   "mimetype": "text/x-python",
   "name": "python",
   "nbconvert_exporter": "python",
   "pygments_lexer": "ipython3",
   "version": "3.5.4"
  }
 },
 "nbformat": 4,
 "nbformat_minor": 2
}
