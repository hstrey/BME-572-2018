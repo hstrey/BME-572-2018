{
 "cells": [
  {
   "cell_type": "code",
   "execution_count": 2,
   "metadata": {},
   "outputs": [],
   "source": [
    "%matplotlib inline\n",
    "import numpy as np\n",
    "import matplotlib.pyplot as plt\n",
    "\n",
    "import lmfit\n"
   ]
  },
  {
   "cell_type": "code",
   "execution_count": 8,
   "metadata": {},
   "outputs": [
    {
     "name": "stdout",
     "output_type": "stream",
     "text": [
      "[[Variables]]\n",
      "    a1:  2.98622120 +/- 0.14867187 (4.98%) (init = 2.986237)\n",
      "    a2: -4.33526327 +/- 0.11527506 (2.66%) (init = -4.335256)\n",
      "    t1:  1.30994233 +/- 0.13121177 (10.02%) (init = 1.309932)\n",
      "    t2:  11.8240351 +/- 0.46316470 (3.92%) (init = 11.82408)\n",
      "[[Correlations]] (unreported correlations are < 0.500)\n",
      "    C(a2, t2) =  0.987\n",
      "    C(a2, t1) = -0.925\n",
      "    C(t1, t2) = -0.881\n",
      "    C(a1, t1) = -0.599\n",
      "       95.45%    68.27%    _BEST_    68.27%    95.45%\n",
      " a1:  -0.27286  -0.14165   2.98622  +0.16353  +0.36343\n",
      " a2:  -0.30444  -0.13219  -4.33526  +0.10688  +0.19683\n",
      " t1:  -0.23392  -0.12494   1.30994  +0.14660  +0.32369\n",
      " t2:  -1.01943  -0.48820  11.82404  +0.46041  +0.90441\n"
     ]
    },
    {
     "data": {
      "image/png": "[encoded data removed]",
      "text/plain": [
       "<Figure size 432x288 with 2 Axes>"
      ]
     },
     "metadata": {},
     "output_type": "display_data"
    }
   ],
   "source": [
    "x = np.linspace(1, 10, 250)\n",
    "np.random.seed(0)\n",
    "y = 3.0*np.exp(-x/2) - 5.0*np.exp(-(x-0.1)/10.) + 0.1*np.random.randn(len(x))\n",
    "\n",
    "p = lmfit.Parameters()\n",
    "p.add_many(('a1', 4.), ('a2', 4.), ('t1', 3.), ('t2', 3.))\n",
    "\n",
    "\n",
    "def residual(p):\n",
    "    return p['a1']*np.exp(-x/p['t1']) + p['a2']*np.exp(-(x-0.1)/p['t2']) - y\n",
    "\n",
    "\n",
    "# create Minimizer\n",
    "mini = lmfit.Minimizer(residual, p, nan_policy='omit')\n",
    "\n",
    "# first solve with Nelder-Mead\n",
    "out1 = mini.minimize(method='Nelder')\n",
    "\n",
    "# then solve with Levenberg-Marquardt using the\n",
    "# Nelder-Mead solution as a starting point\n",
    "out2 = mini.minimize(method='leastsq', params=out1.params)\n",
    "\n",
    "lmfit.report_fit(out2.params, min_correl=0.5)\n",
    "\n",
    "ci, trace = lmfit.conf_interval(mini, out2, sigmas=[1, 2],\n",
    "                                trace=True, verbose=False)\n",
    "lmfit.printfuncs.report_ci(ci)\n",
    "\n",
    "plot_type = 2\n",
    "\n",
    "if plot_type == 0:\n",
    "    plt.plot(x, y)\n",
    "    plt.plot(x, residual(out2.params) + y)\n",
    "\n",
    "elif plot_type == 1:\n",
    "    cx, cy, grid = lmfit.conf_interval2d(mini, out2, 'a2', 't2', 30, 30)\n",
    "    plt.contourf(cx, cy, grid, np.linspace(0, 1, 11))\n",
    "    plt.xlabel('a2')\n",
    "    plt.colorbar()\n",
    "    plt.ylabel('t2')\n",
    "\n",
    "elif plot_type == 2:\n",
    "    cx, cy, grid = lmfit.conf_interval2d(mini, out2, 'a1', 't2', 30, 30)\n",
    "    plt.contourf(cx, cy, grid, np.linspace(0, 1, 11))\n",
    "    plt.xlabel('a1')\n",
    "    plt.colorbar()\n",
    "    plt.ylabel('t2')\n",
    "\n",
    "elif plot_type == 3:\n",
    "    cx1, cy1, prob = trace['a1']['a1'], trace['a1']['t2'], trace['a1']['prob']\n",
    "    cx2, cy2, prob2 = trace['t2']['t2'], trace['t2']['a1'], trace['t2']['prob']\n",
    "    plt.scatter(cx1, cy1, c=prob, s=30)\n",
    "    plt.scatter(cx2, cy2, c=prob2, s=30)\n",
    "    plt.gca().set_xlim((2.5, 3.5))\n",
    "    plt.gca().set_ylim((11, 13))\n",
    "    plt.xlabel('a1')\n",
    "    plt.ylabel('t2')\n",
    "\n",
    "if plot_type > 0:\n",
    "    plt.show()\n",
    "# <end examples/doc_confidence_advanced.py>"
   ]
  },
  {
   "cell_type": "code",
   "execution_count": null,
   "metadata": {},
   "outputs": [],
   "source": []
  }
 ],
 "metadata": {
  "kernelspec": {
   "display_name": "Python 3",
   "language": "python",
   "name": "python3"
  },
  "language_info": {
   "codemirror_mode": {
    "name": "ipython",
    "version": 3
   },
   "file_extension": ".py",
   "mimetype": "text/x-python",
   "name": "python",
   "nbconvert_exporter": "python",
   "pygments_lexer": "ipython3",
   "version": "3.6.5"
  }
 },
 "nbformat": 4,
 "nbformat_minor": 2
}
