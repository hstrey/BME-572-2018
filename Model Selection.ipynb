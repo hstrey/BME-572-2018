{
 "cells": [
  {
   "cell_type": "markdown",
   "metadata": {},
   "source": [
    "# Model Selection\n",
    "\n",
    "In this chapter we will discuss on how to select between alternative models.  This question often boils down to the question on how many parameters can be supported by a model.  A typical example question would be: How many peaks can we identify in a spectrum?\n",
    "\n",
    "Before we go into the details, we need to formulate our problem in a Bayesian way:\n",
    "Let us assume that we want to compare two models or hypothesis $H_1$ and $H_2$.  The first has no parameters and the second one has one parameter $\\lambda$.  This argument can be generalized to comparing any two theories with different number of parameters.  To tell which hypothesis is the better one we calculate the posterior ratio:\n",
    "\n",
    "$$PR = \\frac{P(H_{1} \\mid D)}{P(H_{2} \\mid D)}$$\n",
    "\n",
    "if PR is greater than one we would prefer $H_1$ over $H_2$, but if PR is on the order unity then the data is not sufficient to make a decision.  We will now use Bayes theorem to get a better sense on how to calculate this ratio.\n",
    "\n",
    "$$\\frac{P(H_{1} \\mid D)}{P(H_{2} \\mid D)}=\\frac{P(D \\mid H_{1})}{P(D \\mid H_{2})}\\frac{P(H_{1})}{P(H_{2})}$$\n",
    "\n",
    "the nice thing about this ratio is that $P(D)$ cancels because it is the same for both hypothesis.  The last ratio is the ratio of priors and we should probably assume it to be of the order unity.  This is unless there is reason to believe that one hypothesis is more likely to be true then the other one.  This leaves the first ratio.  $P(D\\mid H_{1})$ is easy but $P(D\\mid H_{2})$ involves a parameter which we can get to by expressing it as\n",
    "\n",
    "$$P(D \\mid H_{2}) = \\int P(D, \\lambda \\mid H_{2})d\\lambda = \\int P(D \\mid \\lambda, H_{2})P(\\lambda \\mid H_{2})d\\lambda$$\n",
    "\n",
    "$P(D \\mid \\lambda, H_{2})$ is just the likelihood function for hypothesis $H_{2}$ with parameter $\\lambda$. $P(\\lambda \\mid H_{2})$ is the prior an reflects the knowledge of the range of $\\lambda$ that is known before the experiment.\n",
    "\n",
    "Lets now assume that $\\lambda$ must lie between two values $\\lambda_{min}$ and $\\lambda_{max}$ which will assign a uniform prior:\n",
    "\n",
    "$$P(\\lambda \\mid H_{2}) = \\frac{1}{\\lambda_{max}-\\lambda_{min}} \\quad \\textrm{for} \\quad \\lambda_{min} \\le \\lambda \\le \\lambda_{max}$$\n",
    "\n",
    "after the measurement we will find that a particular value of $\\lambda_{0}\\pm \\delta \\lambda$ yields the closest agreement with the data.  The corresponding probability $P(D \\mid \\lambda_{0},H_{2})$ will be the maximum of $H_{2}$'s likelihood function.  Let us also assume that we can represent the full likelihood as a Gaussian:\n",
    "\n",
    "$$P(D \\mid \\lambda, H_{2}) = P(D \\mid \\lambda_{0},H_{2}) \\exp \\Big[ -\\frac{(\\lambda-\\lambda_{0})^2}{2\\delta \\lambda^2} \\Big]$$\n",
    "\n",
    "since the uniform prior does not explicitly depend on $\\lambda$ we can calculate\n",
    "\n",
    "$$P(D \\mid H_{2}) = \\frac{1}{\\lambda_{max}-\\lambda_{min}} \\int_{\\lambda_{min}}^{\\lambda_{max}}P(D \\mid \\lambda, H_{2})$$\n",
    "\n",
    "Assuming that the vast majority of the Gaussian is contained in the prior interval this reduces to:\n",
    "\n",
    "$$P(D \\mid H_{2}) = \\frac{P(D \\mid \\lambda_{0},H_{2})\\delta \\lambda \\sqrt{2\\pi}}{\\lambda_{max}-\\lambda_{min}} $$\n",
    "\n",
    "Finally the posterior ratio can be written using three terms:\n",
    "\n",
    "$$\\frac{P(H_{1} \\mid D)}{P(H_{2} \\mid D)}=\\frac{P(H_{1})}{P(H_{2})}\\frac{P(D \\mid H_{1})}{P(D \\mid \\lambda_{0},H_{2})}\\frac{\\lambda_{max}-\\lambda_{min}}{\\delta \\lambda \\sqrt{2\\pi}}$$\n",
    "\n",
    "the first term is our bias with respect to the two theories (should be unity), the second tells us about how well the two theories fit the data (this should be in favor of $H_{2}$ since it has a free parameter).  The third term can be seen as penalizing the introduction of the parameter.  Since $\\lambda_{max}-\\lambda_{min}$ should, in general, be larger than $\\delta \\lambda \\sqrt{2\\pi}$ this factor is larger than one.  This factor is often called a Ockham factor after the thirteen-century Franciscan monk William of Ockham (or Occam, in Latin) who said \"it is vain to do with more what can be done with fewer\".\n",
    "But instead of blindly applying Ockams razor, we now have a quantitative tool to determine how many paramaters are supported by the data."
   ]
  },
  {
   "cell_type": "code",
   "execution_count": 433,
   "metadata": {
    "collapsed": true
   },
   "outputs": [],
   "source": [
    "%matplotlib inline\n",
    "import numpy as np\n",
    "import matplotlib.pyplot as plt"
   ]
  },
  {
   "cell_type": "code",
   "execution_count": 434,
   "metadata": {
    "collapsed": false
   },
   "outputs": [],
   "source": [
    "# to see how sigma affects PR change it between 0.5 to 3\n",
    "sigma = 2\n",
    "x = np.linspace(-5,5,11)\n",
    "yqua = 2*x + 0.05*x**2 + np.random.normal(loc=0,scale=sigma,size=11)"
   ]
  },
  {
   "cell_type": "code",
   "execution_count": 435,
   "metadata": {
    "collapsed": false
   },
   "outputs": [
    {
     "name": "stdout",
     "output_type": "stream",
     "text": [
      "[ 2.1297098  0.7631902]\n",
      "Chi^2:  11.6054050501 exp(-Chi^2):  9.11667822361e-06\n",
      "(array([ 0.02500416,  2.1297098 ,  0.51314857]), array([[  8.91320738e-03,  -1.16952645e-18,  -8.91320738e-02],\n",
      "       [ -1.16952645e-18,   6.95230176e-02,   1.45035233e-17],\n",
      "       [ -8.91320738e-02,   1.45035233e-17,   1.58655091e+00]]))\n",
      "Chi^2:  11.4712979024 P(p0):  1.0425061381e-05 delta p0:  0.0944097843626\n",
      "PR =  0.884529623142\n"
     ]
    }
   ],
   "source": [
    "p = np.polyfit(x,yqua,1)\n",
    "print(p)\n",
    "ylin_fit = np.poly1d(p)(x)\n",
    "res_lin = ylin_fit - yqua\n",
    "chi2_lin = np.sum(res_lin**2)/sigma**2\n",
    "print(\"Chi^2: \",chi2_lin,\"exp(-Chi^2): \",np.exp(-chi2_lin))\n",
    "\n",
    "p2 = np.polyfit(x,yqua,2,cov=True)\n",
    "print(p2)\n",
    "p2_cov = p2[1]\n",
    "yqua_fit = np.poly1d(p2[0])(x)\n",
    "res_qua = yqua_fit - yqua\n",
    "chi2_qua = np.sum(res_qua**2)/sigma**2\n",
    "print(\"Chi^2: \",chi2_qua, \"P(p0): \",np.exp(-chi2_qua),\"delta p0: \",np.sqrt(p2_cov[0][0]))\n",
    "\n",
    "print(\"PR = \",np.exp(-(chi2_lin-chi2_qua))*0.6/2/np.pi/np.sqrt(p2_cov[0][0]))"
   ]
  },
  {
   "cell_type": "code",
   "execution_count": 436,
   "metadata": {
    "collapsed": false
   },
   "outputs": [
    {
     "data": {
      "text/plain": [
       "[<matplotlib.lines.Line2D at 0x117a11128>]"
      ]
     },
     "execution_count": 436,
     "metadata": {},
     "output_type": "execute_result"
    },
    {
     "data": {
      "image/png": "[encoded data removed]",
      "text/plain": [
       "<matplotlib.figure.Figure at 0x1177ef9e8>"
      ]
     },
     "metadata": {},
     "output_type": "display_data"
    }
   ],
   "source": [
    "plt.plot(x,yqua,\"o\")\n",
    "plt.plot(x,ylin_fit)\n",
    "plt.plot(x,yqua_fit)"
   ]
  },
  {
   "cell_type": "code",
   "execution_count": null,
   "metadata": {
    "collapsed": true
   },
   "outputs": [],
   "source": []
  }
 ],
 "metadata": {
  "anaconda-cloud": {},
  "kernelspec": {
   "display_name": "Python [conda env:python3]",
   "language": "python",
   "name": "conda-env-python3-py"
  },
  "language_info": {
   "codemirror_mode": {
    "name": "ipython",
    "version": 3
   },
   "file_extension": ".py",
   "mimetype": "text/x-python",
   "name": "python",
   "nbconvert_exporter": "python",
   "pygments_lexer": "ipython3",
   "version": "3.5.2"
  }
 },
 "nbformat": 4,
 "nbformat_minor": 1
}
